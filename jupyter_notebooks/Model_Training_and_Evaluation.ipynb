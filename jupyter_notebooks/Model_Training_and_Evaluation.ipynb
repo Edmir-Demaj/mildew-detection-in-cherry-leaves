{
  "cells": [
    {
      "cell_type": "markdown",
      "metadata": {
        "id": "0aStgWSO0E0E"
      },
      "source": [
        "# **Model Training and Evaluation**"
      ]
    },
    {
      "source": [
        "<p style=\"text-align: center;\">\n",
        "    <img style=\"width: 35%; height: 20%; float: left;\" src=\"../assets/images/model_training.jpg\" alt=\"Model Training image\">\n",
        "</p>"
      ],
      "cell_type": "markdown",
      "metadata": {}
    },
    {
      "cell_type": "markdown",
      "metadata": {
        "id": "1eLEkw5O0ECa"
      },
      "source": [
        "## Objectives\n",
        "\n",
        "* Accomplish second business requirement:\n",
        "\n",
        "  _**\"The client is interested in predicting if a cherry leaf is healthy or contains powdery mildew\"**_\n",
        "\n",
        "## Inputs Required\n",
        "\n",
        "* Image data will be sourced from the following directories and their subfolders:\n",
        "\n",
        "  - **Training Images**: inputs/cherry_leaves_dataset/cherry-leaves/train\n",
        "  - **Validation Images**: inputs/cherry_leaves_dataset/cherry-leaves/validation\n",
        "  - **Test Images**: inputs/cherry_leaves_dataset/cherry-leaves/test \n",
        "\n",
        "* av_image_shape.pkl file from outputs/version folder\n",
        "\n",
        "## Generated Outputs\n",
        "\n",
        "1. Images distribution plot in train, validation, and test set.\n",
        "2. Image augmentation.\n",
        "3. Class indices to change prediction inference in labels.\n",
        "4. Optimal best Hyperparameters.\n",
        "5. Machine learning model creation and training.\n",
        "6. Saved best model.\n",
        "7. Learning curve plot for model performance.\n",
        "8. Model evaluation on pickle file.\n",
        "9. Prediction on the random image file.\n"
      ]
    },
    {
      "source": [
        "---"
      ],
      "cell_type": "markdown",
      "metadata": {}
    },
    {
      "source": [
        "# Set up the working environment"
      ],
      "cell_type": "markdown",
      "metadata": {}
    },
    {
      "cell_type": "code",
      "execution_count": 1,
      "metadata": {
        "tags": []
      },
      "outputs": [
        {
          "output_type": "stream",
          "name": "stdout",
          "text": "\u001b[92mLibraries Imported Successfully!\u001b[0m\n"
        }
      ],
      "source": [
        "import os\n",
        "import joblib\n",
        "import sklearn\n",
        "import pandas as pd\n",
        "import numpy as np\n",
        "import matplotlib.pyplot as plt\n",
        "import seaborn as sns\n",
        "import matplotlib as mpl\n",
        "import sklearn.metrics as metrics\n",
        "from sklearn.metrics import classification_report, confusion_matrix, f1_score, accuracy_score\n",
        "from matplotlib.image import imread\n",
        "from tensorflow.keras.preprocessing.image import ImageDataGenerator\n",
        "print(\"\\033[92mLibraries Imported Successfully!\\033[0m\")"
      ]
    },
    {
      "source": [
        "**Important libraries and packages required for model creation:**"
      ],
      "cell_type": "markdown",
      "metadata": {}
    },
    {
      "cell_type": "code",
      "execution_count": 2,
      "metadata": {
        "tags": []
      },
      "outputs": [
        {
          "output_type": "stream",
          "name": "stdout",
          "text": "Collecting keras-tuner\n  Downloading keras_tuner-1.3.5-py3-none-any.whl (176 kB)\n\u001b[2K     \u001b[90m━━━━━━━━━━━━━━━━━━━━━━━━━━━━━━━━━━━━━━━\u001b[0m \u001b[32m176.1/176.1 kB\u001b[0m \u001b[31m2.5 MB/s\u001b[0m eta \u001b[36m0:00:00\u001b[0m\n\u001b[?25hRequirement already satisfied: packaging in /home/codeany/.pyenv/versions/3.8.12/lib/python3.8/site-packages (from keras-tuner) (23.1)\nRequirement already satisfied: requests in /home/codeany/.pyenv/versions/3.8.12/lib/python3.8/site-packages (from keras-tuner) (2.31.0)\nCollecting kt-legacy (from keras-tuner)\n  Downloading kt_legacy-1.0.5-py3-none-any.whl (9.6 kB)\nRequirement already satisfied: charset-normalizer<4,>=2 in /home/codeany/.pyenv/versions/3.8.12/lib/python3.8/site-packages (from requests->keras-tuner) (3.2.0)\nRequirement already satisfied: idna<4,>=2.5 in /home/codeany/.pyenv/versions/3.8.12/lib/python3.8/site-packages (from requests->keras-tuner) (3.4)\nRequirement already satisfied: urllib3<3,>=1.21.1 in /home/codeany/.local/lib/python3.8/site-packages (from requests->keras-tuner) (1.26.16)\nRequirement already satisfied: certifi>=2017.4.17 in /home/codeany/.pyenv/versions/3.8.12/lib/python3.8/site-packages (from requests->keras-tuner) (2023.7.22)\nInstalling collected packages: kt-legacy, keras-tuner\nSuccessfully installed keras-tuner-1.3.5 kt-legacy-1.0.5\n"
        }
      ],
      "source": [
        "! pip install keras-tuner"
      ]
    },
    {
      "cell_type": "code",
      "execution_count": 3,
      "metadata": {
        "tags": []
      },
      "outputs": [
        {
          "output_type": "stream",
          "name": "stdout",
          "text": "\u001b[92mLibraries Imported Successfully!\u001b[0m\n"
        }
      ],
      "source": [
        "import keras_tuner as kt\n",
        "from tensorflow import keras\n",
        "from tensorflow.keras.models import Sequential\n",
        "from tensorflow.keras.layers import Activation, Dropout, Flatten, Dense, Conv2D, MaxPooling2D\n",
        "from tensorflow.keras.callbacks import EarlyStopping, ModelCheckpoint\n",
        "from tensorflow.keras.utils import plot_model\n",
        "from keras.regularizers import l2\n",
        "print(\"\\033[92mLibraries Imported Successfully!\\033[0m\")"
      ]
    },
    {
      "source": [
        "# Change working directory"
      ],
      "cell_type": "markdown",
      "metadata": {}
    },
    {
      "source": [
        "* To maintain a straightforward folder structure for the application, we must navigate from the current folder to its parent folder by using `os.getcwd()` to access the current directory."
      ],
      "cell_type": "markdown",
      "metadata": {}
    },
    {
      "cell_type": "code",
      "execution_count": 4,
      "metadata": {},
      "outputs": [
        {
          "output_type": "execute_result",
          "data": {
            "text/plain": "'/workspaces/mildew-detection-in-cherry-leaves/jupyter_notebooks'"
          },
          "metadata": {},
          "execution_count": 4
        }
      ],
      "source": [
        "current_dir = os.getcwd()\n",
        "current_dir"
      ]
    },
    {
      "source": [
        "* To update the current directory to its parent directory, follow these steps:\n",
        "\n",
        "  * Use `os.path.dirname()` to obtain the parent directory.\n",
        "  * Utilize `os.chdir()` to set the new current directory to the parent directory."
      ],
      "cell_type": "markdown",
      "metadata": {}
    },
    {
      "cell_type": "code",
      "execution_count": 5,
      "metadata": {
        "tags": []
      },
      "outputs": [
        {
          "output_type": "stream",
          "name": "stdout",
          "text": "\u001b[92mYou set a new current directory\u001b[0m\n"
        }
      ],
      "source": [
        "os.chdir(os.path.dirname(current_dir))\n",
        "print(f\"\\033[92mYou set a new current directory\\033[0m\")"
      ]
    },
    {
      "source": [
        "* Confirm the new current directory."
      ],
      "cell_type": "markdown",
      "metadata": {}
    },
    {
      "cell_type": "code",
      "execution_count": 6,
      "metadata": {},
      "outputs": [
        {
          "output_type": "execute_result",
          "data": {
            "text/plain": "'/workspaces/mildew-detection-in-cherry-leaves'"
          },
          "metadata": {},
          "execution_count": 6
        }
      ],
      "source": [
        "new_current_dir = os.getcwd()\n",
        "new_current_dir"
      ]
    },
    {
      "source": [
        "# Set input and output directory paths"
      ],
      "cell_type": "markdown",
      "metadata": {}
    },
    {
      "source": [
        "**Inputs**"
      ],
      "cell_type": "markdown",
      "metadata": {}
    },
    {
      "cell_type": "code",
      "execution_count": 7,
      "metadata": {},
      "outputs": [],
      "source": [
        "data_dir = 'inputs/cherry_leaves_dataset/cherry-leaves'\n",
        "train_path = data_dir + '/train'\n",
        "validation_path = data_dir + '/validation'\n",
        "test_path = data_dir + '/test'"
      ]
    },
    {
      "source": [
        "**Outputs**"
      ],
      "cell_type": "markdown",
      "metadata": {}
    },
    {
      "cell_type": "code",
      "execution_count": 8,
      "metadata": {
        "tags": []
      },
      "outputs": [
        {
          "output_type": "stream",
          "name": "stdout",
          "text": "\u001b[91mVersion V_1 already exists. Create a new version please! \u001b[0m\n"
        }
      ],
      "source": [
        "version = 'V_1'\n",
        "\n",
        "file_path = f'outputs/{version}'\n",
        "version_file_path = os.path.join(new_current_dir, file_path)\n",
        "\n",
        "if os.path.exists(version_file_path):\n",
        "    # check version file path exists, if not creates a new directory.\n",
        "     print(f\"\\033[91mVersion {version} already exists. Create a new version please! \\033[0m\")\n",
        "     pass\n",
        "else:\n",
        "    os.makedirs(name=file_path)\n",
        "    print(f\"\\033[92mVersion {version} created successfully! \\033[0m\")"
      ]
    },
    {
      "source": [
        "# Set label names"
      ],
      "cell_type": "markdown",
      "metadata": {}
    },
    {
      "cell_type": "code",
      "execution_count": 9,
      "metadata": {
        "tags": []
      },
      "outputs": [
        {
          "output_type": "stream",
          "name": "stdout",
          "text": "Labels for the images are: ['healthy', 'powdery_mildew']\n"
        }
      ],
      "source": [
        "labels = os.listdir(train_path)\n",
        "print('Labels for the images are:', labels)"
      ]
    },
    {
      "source": [
        "# Set image shape"
      ],
      "cell_type": "markdown",
      "metadata": {}
    },
    {
      "cell_type": "code",
      "execution_count": 10,
      "metadata": {},
      "outputs": [
        {
          "output_type": "execute_result",
          "data": {
            "text/plain": "(256, 256, 3)"
          },
          "metadata": {},
          "execution_count": 10
        }
      ],
      "source": [
        "# Import saved image shape embedding\n",
        "version = 'V_1'\n",
        "image_shape = joblib.load(filename=f\"outputs/{version}/av_image_shape.pkl\")\n",
        "image_shape"
      ]
    },
    {
      "source": [
        "---"
      ],
      "cell_type": "markdown",
      "metadata": {}
    },
    {
      "cell_type": "code",
      "execution_count": null,
      "metadata": {},
      "outputs": [],
      "source": []
    }
  ],
  "metadata": {
    "accelerator": "GPU",
    "colab": {
      "name": "Data Practitioner Jupyter Notebook.ipynb",
      "provenance": [],
      "toc_visible": true
    },
    "interpreter": {
      "hash": "8b8334dab9339717f727a1deaf837b322d7a41c20d15cc86be99a8e69ceec8ce"
    },
    "kernelspec": {
      "display_name": "Python 3.8.12 64-bit ('3.8.12': pyenv)",
      "name": "python381264bit3812pyenv0d43abce8dd94f47923d4d2332621797"
    },
    "language_info": {
      "codemirror_mode": {
        "name": "ipython",
        "version": 3
      },
      "file_extension": ".py",
      "mimetype": "text/x-python",
      "name": "python",
      "nbconvert_exporter": "python",
      "pygments_lexer": "ipython3",
      "version": "3.8.12-final"
    },
    "orig_nbformat": 2
  },
  "nbformat": 4,
  "nbformat_minor": 2
}