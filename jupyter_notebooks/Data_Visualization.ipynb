{
  "cells": [
    {
      "cell_type": "markdown",
      "metadata": {
        "id": "0aStgWSO0E0E"
      },
      "source": [
        "# **Data Visualization**"
      ]
    },
    {
      "source": [
        "<p style=\"text-align: center;\">\n",
        "    <img style=\"width: 35%; height: 20%; float: left;\" src=\"../assets/images/data_visualization.jpg\" alt=\"Data Visualization image\">\n",
        "</p>"
      ],
      "cell_type": "markdown",
      "metadata": {}
    },
    {
      "source": [
        "## Objectives\n",
        "\n",
        "* Accomplish first business requirement:\n",
        "\n",
        "  _**\"The client is interested in conducting a study to visually differentiate a cherry leaf that is healthy from one that contains powdery mildew.\"**_\n",
        "\n",
        "## Inputs Required\n",
        "\n",
        "* Image data will be sourced from the following directories and their subfolders:\n",
        "\n",
        "  - **Training Images**: inputs/cherry_leaves_dataset/cherry-leaves/train\n",
        "  - **Validation Images**: inputs/cherry_leaves_dataset/cherry-leaves/validation\n",
        "  - **Test Images**: inputs/cherry_leaves_dataset/cherry-leaves/test\n",
        "\n",
        "## Generated Outputs\n",
        "\n",
        "1. Embeddings for Image Shapes.\n",
        "2. Average and variability of images per label plot.\n",
        "3. Plot to distinguish the contrast between healthy leaves and ones infected with powdery mildew.\n",
        "4. Generate code that satisfies business requirement 1 and can be used to build an image montage on the Streamlit dashboard."
      ],
      "cell_type": "markdown",
      "metadata": {}
    },
    {
      "source": [
        "---"
      ],
      "cell_type": "markdown",
      "metadata": {}
    },
    {
      "source": [
        "# Set up the working environment"
      ],
      "cell_type": "markdown",
      "metadata": {}
    },
    {
      "source": [
        "## Import libraries"
      ],
      "cell_type": "markdown",
      "metadata": {}
    },
    {
      "cell_type": "code",
      "execution_count": 1,
      "metadata": {
        "tags": []
      },
      "outputs": [
        {
          "output_type": "stream",
          "name": "stdout",
          "text": "\u001b[92mLibraries Imported Successfully!\u001b[0m\n"
        }
      ],
      "source": [
        "import os\n",
        "import joblib\n",
        "import itertools\n",
        "import random\n",
        "import pandas as pd\n",
        "import numpy as np\n",
        "import matplotlib.pyplot as plt\n",
        "import seaborn as sns\n",
        "from matplotlib.image import imread\n",
        "from tensorflow.keras.preprocessing import image\n",
        "sns.set_style(\"white\")\n",
        "print(\"\\033[92mLibraries Imported Successfully!\\033[0m\")"
      ]
    },
    {
      "source": [
        "# Change working directory"
      ],
      "cell_type": "markdown",
      "metadata": {}
    },
    {
      "source": [
        "* To maintain a straightforward folder structure for the application, we must navigate from the current folder to its parent folder by using `os.getcwd()` to access the current directory."
      ],
      "cell_type": "markdown",
      "metadata": {}
    },
    {
      "cell_type": "code",
      "execution_count": 2,
      "metadata": {},
      "outputs": [
        {
          "output_type": "execute_result",
          "data": {
            "text/plain": "'/workspaces/mildew-detection-in-cherry-leaves/jupyter_notebooks'"
          },
          "metadata": {},
          "execution_count": 2
        }
      ],
      "source": [
        "current_dir = os.getcwd()\n",
        "current_dir"
      ]
    },
    {
      "source": [
        "* To update the current directory to its parent directory, follow these steps:\n",
        "\n",
        "  * Use `os.path.dirname()` to obtain the parent directory.\n",
        "  * Utilize `os.chdir()` to set the new current directory to the parent directory."
      ],
      "cell_type": "markdown",
      "metadata": {}
    },
    {
      "cell_type": "code",
      "execution_count": 3,
      "metadata": {
        "tags": []
      },
      "outputs": [
        {
          "output_type": "stream",
          "name": "stdout",
          "text": "\u001b[92mYou set a new current directory!\u001b[0m\n"
        }
      ],
      "source": [
        "os.chdir(os.path.dirname(current_dir))\n",
        "print(f\"\\033[92mYou set a new current directory!\\033[0m\")"
      ]
    },
    {
      "source": [
        "* Confirm the new current directory."
      ],
      "cell_type": "markdown",
      "metadata": {}
    },
    {
      "cell_type": "code",
      "execution_count": 4,
      "metadata": {},
      "outputs": [
        {
          "output_type": "execute_result",
          "data": {
            "text/plain": "'/workspaces/mildew-detection-in-cherry-leaves'"
          },
          "metadata": {},
          "execution_count": 4
        }
      ],
      "source": [
        "new_current_dir = os.getcwd()\n",
        "new_current_dir"
      ]
    },
    {
      "source": [
        "# Set input and output directory paths"
      ],
      "cell_type": "markdown",
      "metadata": {}
    },
    {
      "source": [
        "**Inputs**"
      ],
      "cell_type": "markdown",
      "metadata": {}
    },
    {
      "cell_type": "code",
      "execution_count": 5,
      "metadata": {},
      "outputs": [],
      "source": [
        "data_dir = 'inputs/cherry_leaves_dataset/cherry-leaves'\n",
        "train_path = data_dir + '/train'\n",
        "validation_path = data_dir + '/validation'\n",
        "test_path = data_dir + '/test'"
      ]
    },
    {
      "source": [
        "**Outputs**"
      ],
      "cell_type": "markdown",
      "metadata": {}
    },
    {
      "cell_type": "code",
      "execution_count": 6,
      "metadata": {
        "tags": []
      },
      "outputs": [
        {
          "output_type": "stream",
          "name": "stdout",
          "text": "\u001b[91mVersion V_1 already exists. Create a new version please! \u001b[0m\n"
        }
      ],
      "source": [
        "version = 'V_1'\n",
        "\n",
        "file_path = f'outputs/{version}'\n",
        "version_file_path = os.path.join(new_current_dir, file_path)\n",
        "\n",
        "if os.path.exists(version_file_path):\n",
        "    # check version file path exists, if not creates a new directory.\n",
        "     print(f\"\\033[91mVersion {version} already exists. Create a new version please! \\033[0m\")\n",
        "     pass\n",
        "else:\n",
        "    os.makedirs(name=file_path)\n",
        "    print(f\"\\033[92mVersion {version} created successfully! \\033[0m\")"
      ]
    },
    {
      "source": [
        "# Set label names"
      ],
      "cell_type": "markdown",
      "metadata": {}
    },
    {
      "cell_type": "code",
      "execution_count": 7,
      "metadata": {
        "tags": []
      },
      "outputs": [
        {
          "output_type": "stream",
          "name": "stdout",
          "text": "Labels for the images are: ['healthy', 'powdery_mildew']\n"
        }
      ],
      "source": [
        "labels = os.listdir(train_path)\n",
        "print('Labels for the images are:', labels)"
      ]
    },
    {
      "source": [
        "---"
      ],
      "cell_type": "markdown",
      "metadata": {}
    }
  ],
  "metadata": {
    "accelerator": "GPU",
    "colab": {
      "name": "Data Practitioner Jupyter Notebook.ipynb",
      "provenance": [],
      "toc_visible": true
    },
    "interpreter": {
      "hash": "8b8334dab9339717f727a1deaf837b322d7a41c20d15cc86be99a8e69ceec8ce"
    },
    "kernelspec": {
      "display_name": "Python 3.8.12 64-bit ('3.8.12': pyenv)",
      "name": "python381264bit3812pyenv0d43abce8dd94f47923d4d2332621797"
    },
    "language_info": {
      "codemirror_mode": {
        "name": "ipython",
        "version": 3
      },
      "file_extension": ".py",
      "mimetype": "text/x-python",
      "name": "python",
      "nbconvert_exporter": "python",
      "pygments_lexer": "ipython3",
      "version": "3.8.12-final"
    },
    "orig_nbformat": 2
  },
  "nbformat": 4,
  "nbformat_minor": 2
}